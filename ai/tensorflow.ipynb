{
 "cells": [
  {
   "cell_type": "markdown",
   "id": "092985e2-f810-4180-ac8d-7b829e0d31a7",
   "metadata": {},
   "source": [
    "# Tensor\n",
    "A tensor is a multi-dimensional array (like a matrix) and a fundamental data structure in TensorFlow. It’s designed to handle high-dimensional data and operations on that data, much like vectors and matrices in linear algebra."
   ]
  },
  {
   "cell_type": "markdown",
   "id": "d3b7892c-5df7-4d95-9993-3499059effc8",
   "metadata": {},
   "source": [
    "# Ranks\n",
    "Rank refers to the number of dimensions in a tensor. A scalar (single value) has rank 0, a vector (1D array) has rank 1, a matrix (2D array) has rank 2, and so on.\n",
    "\n",
    "__Example of ranks:__\n",
    "- Rank 0 (Scalar): 1\n",
    "- Rank 1 (Vector): [1, 2, 3]\n",
    "- Rank 2 (Matrix): [[1, 2, 3], [4, 5, 6]]\n",
    "- Rank 3 (3D Tensor): [[[1, 2], [3, 4]], [[5, 6], [7, 8]]]"
   ]
  },
  {
   "cell_type": "code",
   "execution_count": 1,
   "id": "6f4bd71e-0bd2-4a70-bdb8-08d6b4ba840d",
   "metadata": {},
   "outputs": [
    {
     "name": "stdout",
     "output_type": "stream",
     "text": [
      "Scalar: tf.Tensor(5, shape=(), dtype=int32)\n",
      "Vector: tf.Tensor([5 6 7], shape=(3,), dtype=int32)\n",
      "Matrix: tf.Tensor(\n",
      "[[ 5  6  7]\n",
      " [ 8  9 10]], shape=(2, 3), dtype=int32)\n",
      "3D Tensor: tf.Tensor(\n",
      "[[[ 5  6]\n",
      "  [ 7  8]]\n",
      "\n",
      " [[ 9 10]\n",
      "  [11 12]]], shape=(2, 2, 2), dtype=int32)\n"
     ]
    }
   ],
   "source": [
    "import tensorflow as tf\n",
    "\n",
    "# Rank 0 tensor (scalar)\n",
    "scalar = tf.constant(5)\n",
    "\n",
    "# Rank 1 tensor (vector)\n",
    "vector = tf.constant([5, 6, 7])\n",
    "\n",
    "# Rank 2 tensor (matrix)\n",
    "matrix = tf.constant([[5, 6, 7], [8, 9, 10]])\n",
    "\n",
    "# Rank 3 tensor\n",
    "tensor_3d = tf.constant([[[5, 6], [7, 8]], [[9, 10], [11, 12]]])\n",
    "\n",
    "print(\"Scalar:\", scalar)\n",
    "print(\"Vector:\", vector)\n",
    "print(\"Matrix:\", matrix)\n",
    "print(\"3D Tensor:\", tensor_3d)"
   ]
  },
  {
   "cell_type": "markdown",
   "id": "d9dea97a-29cc-4325-b98b-716304fdc9f5",
   "metadata": {},
   "source": [
    "- __Shape__ describes the number of elements in each dimension of the tensor. For example, a tensor with shape `[2, 3]` has 2 rows and 3 columns.\n",
    "\n",
    "   ```python\n",
    "    print(\"Shape of Matrix:\", matrix.shape)         # Shape: (2, 3)\n",
    "    ```\n",
    "<br/>\n",
    "\n",
    "- Tensors can hold data in __different types__: integers (`tf.int32`, `tf.int64`), floating points (`tf.float32`, `tf.float64`), strings, etc.\n",
    "\n",
    "  ```python\n",
    "    float_tensor = tf.constant([1, 2, 3], dtype=tf.float32)\n",
    "    print(\"Float Tensor:\", float_tensor, \"Type:\", float_tensor.dtype)\n",
    "    ```\n",
    "<br/>\n",
    "\n",
    "- TensorFlow supports various tensor __operations__, like\n",
    "    - Addition: `tf.add`\n",
    "    - Multiplication: `tf.multiply`\n",
    "    - Matrix Multiplication: `tf.matmul`"
   ]
  },
  {
   "cell_type": "code",
   "execution_count": 9,
   "id": "1399dfe9-8cf9-4d9e-a1a7-11e9fc276ee4",
   "metadata": {},
   "outputs": [
    {
     "name": "stdout",
     "output_type": "stream",
     "text": [
      "Element-wise Addition:\n",
      " tf.Tensor(\n",
      "[[ 6  8]\n",
      " [10 12]], shape=(2, 2), dtype=int32)\n",
      "Element-wise Multiplication:\n",
      " tf.Tensor(\n",
      "[[ 5 12]\n",
      " [21 32]], shape=(2, 2), dtype=int32)\n",
      "Matrix Multiplication:\n",
      " tf.Tensor(\n",
      "[[19 22]\n",
      " [43 50]], shape=(2, 2), dtype=int32)\n",
      "Division: tf.Tensor(\n",
      "[[0.2        0.33333333]\n",
      " [0.42857143 0.5       ]], shape=(2, 2), dtype=float64)\n",
      "Sum: tf.Tensor(10, shape=(), dtype=int32)\n",
      "Mean: tf.Tensor(2, shape=(), dtype=int32)\n",
      "Max: tf.Tensor(4, shape=(), dtype=int32)\n",
      "Min: tf.Tensor(1, shape=(), dtype=int32)\n"
     ]
    }
   ],
   "source": [
    "a = tf.constant([[1, 2], [3, 4]])\n",
    "b = tf.constant([[5, 6], [7, 8]])\n",
    "\n",
    "add_result = tf.add(a, b)\n",
    "multiply_result = tf.multiply(a, b)\n",
    "matmul_result = tf.matmul(a, b)\n",
    "div_result = tf.divide(a, b)\n",
    "\n",
    "sum_result = tf.reduce_sum(a)\n",
    "mean_result = tf.reduce_mean(a)\n",
    "max_result = tf.reduce_max(a)\n",
    "min_result = tf.reduce_min(a)\n",
    "\n",
    "print(\"Element-wise Addition:\\n\", add_result)\n",
    "print(\"Element-wise Multiplication:\\n\", multiply_result)\n",
    "print(\"Matrix Multiplication:\\n\", matmul_result)\n",
    "print(\"Division:\", div_result)\n",
    "\n",
    "print(\"Sum:\", sum_result)             \n",
    "print(\"Mean:\", mean_result)           \n",
    "print(\"Max:\", max_result)             \n",
    "print(\"Min:\", min_result)"
   ]
  },
  {
   "cell_type": "code",
   "execution_count": 14,
   "id": "451dc972-537d-4c2c-bb6c-7037c3cc4fb6",
   "metadata": {},
   "outputs": [
    {
     "name": "stdout",
     "output_type": "stream",
     "text": [
      "Element-wise Addition:\n",
      " tf.Tensor(\n",
      "[[ 6.  8.]\n",
      " [10. 12.]], shape=(2, 2), dtype=float32)\n",
      "Element-wise Multiplication:\n",
      " tf.Tensor(\n",
      "[[ 5. 12.]\n",
      " [21. 32.]], shape=(2, 2), dtype=float32)\n",
      "Matrix Multiplication:\n",
      " tf.Tensor(\n",
      "[[19. 22.]\n",
      " [43. 50.]], shape=(2, 2), dtype=float32)\n",
      "Division:\n",
      " tf.Tensor(\n",
      "[[0.2        0.33333334]\n",
      " [0.42857143 0.5       ]], shape=(2, 2), dtype=float32)\n",
      "Sum: tf.Tensor(10.0, shape=(), dtype=float32)\n",
      "Mean: tf.Tensor(2.5, shape=(), dtype=float32)\n",
      "Max: tf.Tensor(4.0, shape=(), dtype=float32)\n",
      "Min: tf.Tensor(1.0, shape=(), dtype=float32)\n",
      "Exponentiation:\n",
      " tf.Tensor(\n",
      "[[ 2.7182817  7.389056 ]\n",
      " [20.085537  54.59815  ]], shape=(2, 2), dtype=float32)\n",
      "Square Root:\n",
      " tf.Tensor(\n",
      "[[1.        1.4142135]\n",
      " [1.7320508 2.       ]], shape=(2, 2), dtype=float32)\n"
     ]
    }
   ],
   "source": [
    "import tensorflow as tf\n",
    "\n",
    "# Define tensors with float data type\n",
    "a = tf.constant([[1, 2], [3, 4]], dtype=tf.float32)\n",
    "b = tf.constant([[5, 6], [7, 8]], dtype=tf.float32)\n",
    "\n",
    "# Element-wise operations\n",
    "add_result = tf.add(a, b)\n",
    "multiply_result = tf.multiply(a, b)\n",
    "div_result = tf.divide(a, b)\n",
    "\n",
    "# Matrix multiplication\n",
    "matmul_result = tf.matmul(a, b)\n",
    "\n",
    "# Aggregation operations\n",
    "sum_result = tf.reduce_sum(a)\n",
    "mean_result = tf.reduce_mean(a)\n",
    "max_result = tf.reduce_max(a)\n",
    "min_result = tf.reduce_min(a)\n",
    "\n",
    "# Exponentiation and square root\n",
    "exp_result = tf.exp(a)\n",
    "sqrt_result = tf.sqrt(a)\n",
    "\n",
    "# Print results\n",
    "print(\"Element-wise Addition:\\n\", add_result)\n",
    "print(\"Element-wise Multiplication:\\n\", multiply_result)\n",
    "print(\"Matrix Multiplication:\\n\", matmul_result)\n",
    "print(\"Division:\\n\", div_result)\n",
    "\n",
    "print(\"Sum:\", sum_result)             \n",
    "print(\"Mean:\", mean_result)           \n",
    "print(\"Max:\", max_result)             \n",
    "print(\"Min:\", min_result)\n",
    "\n",
    "print(\"Exponentiation:\\n\", exp_result)\n",
    "print(\"Square Root:\\n\", sqrt_result)"
   ]
  },
  {
   "cell_type": "code",
   "execution_count": null,
   "id": "7c08ddbc-7aa6-48cb-b1d9-08336b5735de",
   "metadata": {},
   "outputs": [],
   "source": []
  }
 ],
 "metadata": {
  "kernelspec": {
   "display_name": "venv",
   "language": "python",
   "name": "venv"
  },
  "language_info": {
   "codemirror_mode": {
    "name": "ipython",
    "version": 3
   },
   "file_extension": ".py",
   "mimetype": "text/x-python",
   "name": "python",
   "nbconvert_exporter": "python",
   "pygments_lexer": "ipython3",
   "version": "3.11.4"
  }
 },
 "nbformat": 4,
 "nbformat_minor": 5
}
