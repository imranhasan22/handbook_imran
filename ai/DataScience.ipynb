{
 "cells": [
  {
   "cell_type": "markdown",
   "id": "f604cdb6-41c5-4810-93dc-addda4ac569d",
   "metadata": {},
   "source": [
    "# Data Preprocessing\n",
    "Data preprocessing is a crucial step in the data analysis and machine learning pipeline. It involves preparing and cleaning data before it can be fed into a machine learning model. The goal is to ensure that the data is in a suitable format for analysis, which can improve the model's accuracy and performance.\n",
    "\n",
    "## Steps in Data Preprocessing\n",
    "\n",
    "1. **Data Collection**: Gather raw data from various sources, such as databases, APIs, web scraping, etc.\n",
    "\n",
    "2. **Data Cleaning**: This step involves handling missing values, outliers, and duplicate records.\n",
    "   - **Missing Values**: They can be filled (imputation), removed, or flagged.\n",
    "   - **Outliers**: These can be identified using statistical methods (like z-scores) and can be removed or transformed.\n",
    "   - **Duplicates**: Duplicate records should be removed to avoid bias in analysis.\n",
    "\n",
    "3. **Data Transformation**: Convert the data into a suitable format or structure.\n",
    "   - **Normalization/Standardization**: Rescale features to a similar range, especially for algorithms sensitive to feature scales (like K-means or SVM).\n",
    "   - **Encoding Categorical Variables**: Convert categorical data into numerical format, as most algorithms work with numbers. Common techniques include:\n",
    "     - **Label Encoding**: Assigns a unique integer to each category.\n",
    "     - **One-Hot Encoding**: Creates binary columns for each category.\n",
    "\n",
    "4. **Feature Engineering**: Create new features from existing ones to provide more information to the model. This can include polynomial features, interaction terms, or aggregating features.\n",
    "\n",
    "5. **Splitting Data**: Divide the dataset into training and testing sets to evaluate the model's performance."
   ]
  },
  {
   "cell_type": "markdown",
   "id": "d331825f-bb05-422d-954e-dfd0748fdf8d",
   "metadata": {},
   "source": [
    "# Outlier\n",
    "In machine learning, an **outlier** refers to a data point that is significantly different from the majority of the data. Outliers can arise due to variability in the data, errors in data collection, or other irregularities, and they may represent noise or indicate unusual, but important, information about the data.\n",
    "\n",
    "## Characteristics of Outliers:\n",
    "1. **Extreme Values**: Outliers are typically values that are far away from the mean or median of a dataset.\n",
    "2. **Isolated Data Points**: Outliers often do not conform to the trend of the other data points.\n",
    "3. **Influence on Models**: They can skew results, affect the accuracy of machine learning models, and lead to misleading conclusions.\n",
    "\n",
    "## Causes of Outliers:\n",
    "1. **Measurement Errors**: For example, if a sensor records an incorrect temperature reading due to a malfunction.\n",
    "2. **Data Entry Errors**: Typing mistakes or errors in recording values can produce outliers.\n",
    "3. **Natural Variability**: Sometimes, outliers occur naturally, such as extremely tall people in a dataset of human heights.\n",
    "\n",
    "## Types of Outliers:\n",
    "1. **Univariate Outliers**: These occur in one-dimensional data. For example, a very high value in a list of ages of students.\n",
    "2. **Multivariate Outliers**: These occur in multi-dimensional data. For example, a person with an average height but an extremely low weight.\n",
    "\n",
    "## Detecting Outliers\n",
    "Detecting outliers is an essential part of data preprocessing because outliers can distort statistical analyses and model performance.\n",
    "\n",
    "### 1. Z-Score (Standard Score) Method\n",
    "The Z-Score measures how many standard deviations a data point is from the mean. Typically, data points with a Z-Score greater than 3 (or less than -3) are considered outliers.\n",
    "\n",
    "Formula for Z-Score:\n",
    "\n",
    "$$\n",
    "𝑍 = \\frac{𝑋 - 𝜇}{𝜎}\n",
    "$$\n",
    "\n",
    "Where:\n",
    "\n",
    "- X is the data point,\n",
    "- μ is the mean,\n",
    "- σ is the standard deviation."
   ]
  },
  {
   "cell_type": "code",
   "execution_count": 9,
   "id": "d5d92ee8-dac2-4703-94b0-2a83442138a3",
   "metadata": {},
   "outputs": [
    {
     "name": "stdout",
     "output_type": "stream",
     "text": [
      "   Age   Z_Score  Outlier\n",
      "0   22 -0.484223   Normal\n",
      "1   23 -0.441747   Normal\n",
      "2   24 -0.399272   Normal\n",
      "3   25 -0.356796   Normal\n",
      "4   26 -0.314320   Normal\n",
      "5   27 -0.271845   Normal\n",
      "6   28 -0.229369   Normal\n",
      "7   29 -0.186893   Normal\n",
      "8   30 -0.144417   Normal\n",
      "9  100  2.828882  Outlier\n"
     ]
    }
   ],
   "source": [
    "# Z-Score Implementation\n",
    "import pandas as pd\n",
    "data = {\n",
    "    'Age': [22, 23, 24, 25, 26, 27, 28, 29, 30, 100]  # 100 is an outlier\n",
    "}\n",
    "\n",
    "df = pd.DataFrame(data)\n",
    "df['Z_Score'] = (df['Age'] - df['Age'].mean()) / df['Age'].std()\n",
    "\n",
    "# Define a threshold for outliers\n",
    "threshold = 0.5\n",
    "\n",
    "# Flag values that are outliers\n",
    "df['Outlier'] = df['Z_Score'].apply(lambda x: 'Outlier' if abs(x) > threshold else 'Normal')\n",
    "\n",
    "print(df)"
   ]
  },
  {
   "cell_type": "code",
   "execution_count": 10,
   "id": "b58ff88e-1bce-4f01-b1da-8b29d153318e",
   "metadata": {},
   "outputs": [
    {
     "data": {
      "image/png": "[encoded data removed]",
      "text/plain": [
       "<Figure size 1000x600 with 1 Axes>"
      ]
     },
     "metadata": {},
     "output_type": "display_data"
    }
   ],
   "source": [
    "# Z-Score Visualization\n",
    "import matplotlib.pyplot as plt\n",
    "plt.figure(figsize=(10, 6))\n",
    "plt.scatter(df.index, df['Z_Score'], color='blue', label='Normal')\n",
    "plt.scatter(df[df['Outlier'] == 'Outlier'].index, df[df['Outlier'] == 'Outlier']['Z_Score'], \n",
    "            color='red', label='Outliers', marker='x', s=100)\n",
    "plt.axhline(y=threshold, color='r', linestyle='--', label=f\"Threshold = {threshold}\")\n",
    "plt.axhline(y=-threshold, color='r', linestyle='--')\n",
    "plt.title('Z-Score Outlier Detection')\n",
    "plt.xlabel('Index')\n",
    "plt.ylabel('Z-Score')\n",
    "plt.legend()\n",
    "plt.show()"
   ]
  },
  {
   "cell_type": "markdown",
   "id": "1e380849-fc6f-4aef-9fee-7c6b385b0c5d",
   "metadata": {},
   "source": [
    "### 2. IQR (Interquartile Range) Method\n",
    "The IQR method uses percentiles to detect outliers. It measures the spread of the middle 50% of the data.\n",
    "### 3. Boxplot\n",
    "Boxplots are a graphical representation of data that use the IQR to detect outliers. In a boxplot, any data points that fall outside 1.5 times the IQR from the quartiles are marked as outliers."
   ]
  },
  {
   "cell_type": "markdown",
   "id": "de3a1a59-245a-41bf-83c0-5c5d876912a8",
   "metadata": {},
   "source": [
    "# Similarity Measures"
   ]
  }
 ],
 "metadata": {
  "kernelspec": {
   "display_name": "venv",
   "language": "python",
   "name": "venv"
  },
  "language_info": {
   "codemirror_mode": {
    "name": "ipython",
    "version": 3
   },
   "file_extension": ".py",
   "mimetype": "text/x-python",
   "name": "python",
   "nbconvert_exporter": "python",
   "pygments_lexer": "ipython3",
   "version": "3.11.4"
  }
 },
 "nbformat": 4,
 "nbformat_minor": 5
}
