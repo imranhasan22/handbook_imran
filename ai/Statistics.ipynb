{
 "cells": [
  {
   "cell_type": "markdown",
   "id": "3e211ccc-06d1-4b13-99b5-dc6f9961ab6a",
   "metadata": {},
   "source": [
    "# Measures of central tendency\n",
    "Measures of central tendency describe the center point of a dataset. They are useful in summarizing data, as they represent a typical value around which other data points cluster. The three most common measures are `mean`, `median`, and `mode`."
   ]
  },
  {
   "cell_type": "markdown",
   "id": "57b191f4-1759-4c2a-9218-17c1b4696d33",
   "metadata": {},
   "source": [
    "## Mean\n",
    "The mean (or average) is the sum of all observations divided by the total number of observations.\n",
    "\n",
    "#### Ungrouped Data\n",
    "\n",
    "For ungrouped data (individual data points):\n",
    "\n",
    "$$\n",
    "Mean (\\bar{x}) = \\frac{\\sum_{i=1}^{n} x_i}{n}\n",
    "$$\n",
    "\n",
    "Where:\n",
    "\n",
    "- \\$ x_i \\$ = each value\n",
    "- \\$ n \\$ = total number of observations\n",
    "\n",
    "__Example:__"
   ]
  },
  {
   "cell_type": "code",
   "execution_count": 82,
   "id": "f2183595-f812-4e35-8302-ec36c988818f",
   "metadata": {},
   "outputs": [
    {
     "name": "stdout",
     "output_type": "stream",
     "text": [
      "Mean (Ungrouped Data): 15.0\n"
     ]
    }
   ],
   "source": [
    "data = [5, 10, 15, 20, 25]\n",
    "mean = sum(data) / len(data)\n",
    "print(f\"Mean (Ungrouped Data): {mean}\")"
   ]
  },
  {
   "cell_type": "code",
   "execution_count": 83,
   "id": "206f33fb-3468-41dc-8f74-c66a923cd260",
   "metadata": {},
   "outputs": [
    {
     "name": "stdout",
     "output_type": "stream",
     "text": [
      "Mean (Ungrouped Data): 15.0\n"
     ]
    }
   ],
   "source": [
    "import pandas as pd\n",
    "\n",
    "data_series = pd.Series(data)\n",
    "mean = data_series.mean()\n",
    "print(f\"Mean (Ungrouped Data): {mean}\")"
   ]
  },
  {
   "cell_type": "markdown",
   "id": "7b300e7e-ae44-451a-8dd9-6211e44b8024",
   "metadata": {},
   "source": [
    "#### Grouped Data\n",
    "For grouped data (data is presented in a frequency table):\n",
    "\n",
    "$$\n",
    "Mean(\\bar{x}) = \\frac{\\sum_{i=1}^{n} f_i \\cdot x_i}{\\sum_{i=1}^{n} f_i}\n",
    "$$\n",
    "\n",
    "Where:\n",
    "\n",
    "- \\$ f_i \\$ = frequency of each class interval\n",
    "- \\$ x_i \\$ = midpoint of each class interval\n",
    "- \\$ n \\$ = total number of classes\n",
    "\n",
    "__Example:__\n",
    "| Class Intervals | Midpoints | Frequencies |\n",
    "|-----------------|-----------|-------------|\n",
    "| 0 - 10          | 5         | 4           |\n",
    "| 10 - 20         | 15        | 6           |\n",
    "| 20 - 30         | 25        | 8           |\n",
    "| 30 - 40         | 35        | 5           |\n",
    "| 40 - 50         | 45        | 7           |"
   ]
  },
  {
   "cell_type": "code",
   "execution_count": 104,
   "id": "24fd2557-d24e-47b5-b25a-8570d638b182",
   "metadata": {},
   "outputs": [
    {
     "name": "stdout",
     "output_type": "stream",
     "text": [
      "Mean (Grouped Data): 26.67\n"
     ]
    }
   ],
   "source": [
    "class_intervals = [(0, 10), (10, 20), (20, 30), (30, 40), (40, 50)]  # Class intervals\n",
    "frequencies = [4, 6, 8, 5, 7]  # Corresponding frequencies\n",
    "\n",
    "def calculate_midpoints(intervals):\n",
    "    return [(interval[0] + interval[1]) / 2 for interval in intervals]\n",
    "\n",
    "midpoints = calculate_midpoints(class_intervals)\n",
    "mean_grouped = sum(f * x for f, x in zip(frequencies, midpoints)) / sum(frequencies)\n",
    "\n",
    "print(f\"Mean (Grouped Data): {mean_grouped:.2f}\")"
   ]
  },
  {
   "cell_type": "code",
   "execution_count": 105,
   "id": "88dc2c8e-c2ef-4053-95ae-cbfa05378d9a",
   "metadata": {},
   "outputs": [
    {
     "name": "stdout",
     "output_type": "stream",
     "text": [
      "   Lower  Upper  Frequency  Midpoint  f * x\n",
      "0      0     10          4       5.0   20.0\n",
      "1     10     20          6      15.0   90.0\n",
      "2     20     30          8      25.0  200.0\n",
      "3     30     40          5      35.0  175.0\n",
      "4     40     50          7      45.0  315.0\n",
      "Mean (Grouped Data): 26.67\n"
     ]
    }
   ],
   "source": [
    "df = pd.DataFrame(class_intervals, columns=['Lower', 'Upper'])\n",
    "df['Frequency'] = frequencies\n",
    "df['Midpoint'] = (df['Lower'] + df['Upper']) / 2\n",
    "df['f * x'] = df['Frequency'] * df['Midpoint']\n",
    "\n",
    "mean_grouped = df['f * x'].sum() / df['Frequency'].sum()\n",
    "\n",
    "print(df.head())\n",
    "print(f\"Mean (Grouped Data): {mean_grouped:.2f}\")"
   ]
  },
  {
   "cell_type": "markdown",
   "id": "d5a43a91-706a-450c-a060-c3b9dade3ede",
   "metadata": {},
   "source": [
    "### Median\n",
    "The median is the middle value when the data is arranged in ascending or descending order. It divides the dataset into two equal parts.\n",
    "\n",
    "#### Ungrouped Data\n",
    "For ungrouped data:\n",
    "\n",
    "- **If n (number of observations) is odd**:\n",
    "   \n",
    "$$\n",
    "\\text{Median} = x_{\\frac{n+1}{2}}\n",
    "$$\n",
    "\n",
    "- **If n is even**:\n",
    "\n",
    "$$\n",
    "\\text{Median} = \\frac{x_{\\frac{n}{2}} + x_{\\frac{n}{2} + 1}}{2}\n",
    "$$\n",
    "\n",
    "Where:\n",
    "\n",
    "- \\$ x \\$ represents the data points sorted in ascending order.\n",
    "- \\$ n \\$ is the total number of observations.\n",
    "\n",
    "__Example:__"
   ]
  },
  {
   "cell_type": "code",
   "execution_count": 106,
   "id": "30650321-fb60-40e4-807f-4e791b3ede45",
   "metadata": {},
   "outputs": [
    {
     "name": "stdout",
     "output_type": "stream",
     "text": [
      "Median (Ungrouped Data): 15\n"
     ]
    }
   ],
   "source": [
    "data.sort()\n",
    "n = len(data)\n",
    "median = data[n // 2] if n % 2 == 1 else (data[(n // 2) - 1] + data[n // 2]) / 2\n",
    "\n",
    "print(f\"Median (Ungrouped Data): {median}\")"
   ]
  },
  {
   "cell_type": "code",
   "execution_count": 107,
   "id": "b3370e65-0c88-441d-97e9-f728b6397f65",
   "metadata": {},
   "outputs": [
    {
     "name": "stdout",
     "output_type": "stream",
     "text": [
      "Median (Ungrouped Data): 15.0\n"
     ]
    }
   ],
   "source": [
    "median = data_series.median()\n",
    "print(f\"Median (Ungrouped Data): {median}\")"
   ]
  },
  {
   "cell_type": "markdown",
   "id": "3f6a3771-9f27-4efd-87c5-c8fa1d57a1c3",
   "metadata": {},
   "source": [
    "#### Grouped Data\n",
    "For grouped data:\n",
    "\n",
    "$$\n",
    "\\text{Median} = L + \\left( \\frac{\\frac{N}{2} - CF}{f} \\right) \\cdot h\n",
    "$$\n",
    "\n",
    "Where:\n",
    "\n",
    "- \\$ L \\$ = lower boundary of the median class\n",
    "- \\$ N \\$ = total frequency\n",
    "- \\$ CF \\$ = cumulative frequency of the class before the median class\n",
    "- \\$ f \\$ = frequency of the median class\n",
    "- \\$ h \\$ = class width\n",
    "\n",
    "__Example:__\n",
    "\n",
    "| Class Intervals | Frequencies | Cumulative Frequencies |\n",
    "|-----------------|-------------|------------------------|\n",
    "| 0 - 10          | 4           | 4                      |\n",
    "| 10 - 20         | 6           | 10                     |\n",
    "| 20 - 30         | 8           | 18                     |\n",
    "| 30 - 40         | 5           | 23                     |\n",
    "| 40 - 50         | 7           | 30                     |\n",
    "| **Total**       | **30**      |                        |\n"
   ]
  },
  {
   "cell_type": "code",
   "execution_count": 108,
   "id": "a73d83e9-f188-4605-9d82-b4c37f77a419",
   "metadata": {},
   "outputs": [
    {
     "name": "stdout",
     "output_type": "stream",
     "text": [
      "Median (Grouped Data): 26.25\n"
     ]
    }
   ],
   "source": [
    "N = sum(frequencies)\n",
    "cumulative_freq = 0\n",
    "median_class = None\n",
    "L, f, CF = 0, 0, 0\n",
    "\n",
    "for i, interval in enumerate(class_intervals):\n",
    "    cumulative_freq += frequencies[i]\n",
    "    if cumulative_freq >= N / 2:\n",
    "        median_class = interval\n",
    "        L = interval[0]\n",
    "        f = frequencies[i]\n",
    "        CF = cumulative_freq - frequencies[i]\n",
    "        break\n",
    "\n",
    "h = median_class[1] - median_class[0]\n",
    "median = L + ((N / 2 - CF) / f) * h\n",
    "print(f\"Median (Grouped Data): {median}\")"
   ]
  },
  {
   "cell_type": "code",
   "execution_count": 109,
   "id": "466f2060-c45f-402c-8375-d1148143f028",
   "metadata": {},
   "outputs": [
    {
     "name": "stdout",
     "output_type": "stream",
     "text": [
      "Median (Grouped Data): 26.25\n"
     ]
    }
   ],
   "source": [
    "# Calculate cumulative frequency\n",
    "df['Cumulative Frequency'] = df['Frequency'].cumsum()\n",
    "\n",
    "# Total frequency\n",
    "N = df['Frequency'].sum()\n",
    "\n",
    "# Find median class\n",
    "median_class_index = df[df['Cumulative Frequency'] >= N / 2].index[0]\n",
    "median_class = df.iloc[median_class_index]\n",
    "\n",
    "# Extract values for median calculation\n",
    "L = median_class['Lower']            # Lower boundary\n",
    "f = median_class['Frequency']        # Frequency of median class\n",
    "CF = df.iloc[median_class_index - 1]['Cumulative Frequency'] if median_class_index > 0 else 0  # Cumulative frequency of the class before\n",
    "h = median_class['Upper'] - median_class['Lower']  # Class width\n",
    "\n",
    "# Calculate median\n",
    "median = L + ((N / 2 - CF) / f) * h\n",
    "print(f\"Median (Grouped Data): {median}\")"
   ]
  },
  {
   "cell_type": "markdown",
   "id": "94294fd7-187e-46cf-969b-82a849b420d7",
   "metadata": {},
   "source": [
    "### Mode\n",
    "The mode is the most frequently occurring value in a dataset.\n",
    "\n",
    "#### Ungrouped Data\n",
    "For ungrouped data:\n",
    "- Mode is the value that appears most often in the dataset.\n",
    "\n",
    "__Example:__"
   ]
  },
  {
   "cell_type": "code",
   "execution_count": 110,
   "id": "42ddabf1-2972-44f6-9ad4-8015cafdb373",
   "metadata": {},
   "outputs": [
    {
     "name": "stdout",
     "output_type": "stream",
     "text": [
      "Mode (Ungrouped Data): 5\n"
     ]
    }
   ],
   "source": [
    "from collections import Counter\n",
    "\n",
    "mode = Counter(data).most_common(1)[0][0]\n",
    "print(f\"Mode (Ungrouped Data): {mode}\")"
   ]
  },
  {
   "cell_type": "markdown",
   "id": "fe18a40d-45a8-4a97-92bc-df1625448f3e",
   "metadata": {},
   "source": [
    "- `Counter(data):` - count the occurrences of each unique element in the list.\n",
    "- `.most_common(1)` - returns a list containing one tuple: the most common element and its count(first element is the item, second element is it's count)"
   ]
  },
  {
   "cell_type": "code",
   "execution_count": 111,
   "id": "bb3a0c4f-7b29-4c3d-a8ac-97e364c1d059",
   "metadata": {},
   "outputs": [
    {
     "name": "stdout",
     "output_type": "stream",
     "text": [
      "Mode (Ungrouped Data): 5\n"
     ]
    }
   ],
   "source": [
    "mode = data_series.mode()[0]\n",
    "print(f\"Mode (Ungrouped Data): {mode}\")"
   ]
  },
  {
   "cell_type": "markdown",
   "id": "e4c3e411-92c5-47e2-b320-9baa1f328dcb",
   "metadata": {},
   "source": [
    "#### Grouped Data\n",
    "For grouped data:\n",
    "\n",
    "$$\n",
    "\\text{Mode} = L + \\left( \\frac{2f_1 - f_0 - f_2}{f_1 - f_0} \\right) \\cdot h \n",
    "$$\n",
    "\n",
    "Where:\n",
    "- \\$ L \\$ = lower boundary of the modal class\n",
    "- \\$ f_1 \\$ = frequency of the modal class\n",
    "- \\$ f_0 \\$ = frequency of the class preceding the modal class\n",
    "- \\$ f_2 \\$ = frequency of the class succeeding the modal class\n",
    "- \\$ h \\$ = class width\n",
    "\n",
    "__Example:__"
   ]
  },
  {
   "cell_type": "code",
   "execution_count": 112,
   "id": "4cb4c50a-08b2-4156-9b26-b514b4686b61",
   "metadata": {},
   "outputs": [
    {
     "name": "stdout",
     "output_type": "stream",
     "text": [
      "Mode (Grouped Data): 24.0\n"
     ]
    }
   ],
   "source": [
    "# Find the modal class\n",
    "modal_class_index = frequencies.index(max(frequencies))\n",
    "L = class_intervals[modal_class_index][0]\n",
    "f1 = frequencies[modal_class_index]\n",
    "f0 = frequencies[modal_class_index - 1] if modal_class_index > 0 else 0\n",
    "f2 = frequencies[modal_class_index + 1] if modal_class_index < len(frequencies) - 1 else 0\n",
    "h = class_intervals[modal_class_index][1] - class_intervals[modal_class_index][0]\n",
    "\n",
    "mode = L + ((f1 - f0) / (2 * f1 - f0 - f2)) * h\n",
    "print(f\"Mode (Grouped Data): {mode}\")"
   ]
  },
  {
   "cell_type": "code",
   "execution_count": 113,
   "id": "8021ab1e-9260-415e-af12-6063fdfdf4a4",
   "metadata": {},
   "outputs": [
    {
     "name": "stdout",
     "output_type": "stream",
     "text": [
      "Mode (Grouped Data): 24.0\n"
     ]
    }
   ],
   "source": [
    "# Find the modal class\n",
    "modal_class_index = df['Frequency'].idxmax()  # Index of the maximum frequency\n",
    "L = df['Lower'][modal_class_index]  # Lower boundary of the modal class\n",
    "f1 = df['Frequency'][modal_class_index]  # Frequency of the modal class\n",
    "f0 = df['Frequency'][modal_class_index - 1] if modal_class_index > 0 else 0  # Frequency of the class before modal class\n",
    "f2 = df['Frequency'][modal_class_index + 1] if modal_class_index < len(frequencies) - 1 else 0  # Frequency of the class after modal class\n",
    "h = df['Upper'][modal_class_index] - df['Lower'][modal_class_index]  # Class width\n",
    "\n",
    "mode = L + ((f1 - f0) / (2 * f1 - f0 - f2)) * h\n",
    "\n",
    "print(f\"Mode (Grouped Data): {mode}\")"
   ]
  },
  {
   "cell_type": "markdown",
   "id": "0f1c02ef-c811-43c3-b7d8-c3e33a2e831b",
   "metadata": {},
   "source": [
    "## Summary of When to Use Mean, Median, and Mode\n",
    "\n",
    "| **Measure** | **Best for** | **Not Suitable for** | **Typical Applications** |\n",
    "|-------------|---------------|----------------------|--------------------------|\n",
    "| **Mean**    | Continuous data, normal distribution, when all values are important | Skewed data, data with outliers | Average income, temperatures, grades |\n",
    "| **Median**  | Skewed data, ordinal data, data with outliers | Data with many small variations | Household income, property prices, satisfaction surveys |\n",
    "| **Mode**    | Categorical data, nominal data, identifying the most common category | Continuous data, data without frequent repetitions | Most common product, survey responses, demographics |"
   ]
  },
  {
   "cell_type": "markdown",
   "id": "b8a8852b-b2b4-4f39-8148-e8b3deba72b3",
   "metadata": {},
   "source": [
    "## Visualization"
   ]
  },
  {
   "cell_type": "markdown",
   "id": "c5ab27a8-ad0f-4536-9f54-51ff54aede14",
   "metadata": {},
   "source": [
    "### Histogram"
   ]
  },
  {
   "cell_type": "code",
   "execution_count": 114,
   "id": "844e998b-e385-422e-9175-b1ba209d61f9",
   "metadata": {},
   "outputs": [],
   "source": [
    "import numpy as np\n",
    "import matplotlib.pyplot as plt\n",
    "\n",
    "mean = np.mean(data)\n",
    "median = np.median(data)\n",
    "mode = Counter(data).most_common(1)[0][0]"
   ]
  },
  {
   "cell_type": "markdown",
   "id": "c2a439d5-683c-432b-b09c-26e63a5d4051",
   "metadata": {},
   "source": [
    "#### Mean"
   ]
  },
  {
   "cell_type": "code",
   "execution_count": 115,
   "id": "4bea3ad9-8ac9-43ab-9005-ab9cbbe5d7f4",
   "metadata": {},
   "outputs": [
    {
     "data": {
      "image/png": "[encoded data removed]",
      "text/plain": [
       "<Figure size 640x480 with 1 Axes>"
      ]
     },
     "metadata": {},
     "output_type": "display_data"
    }
   ],
   "source": [
    "plt.hist(data, bins=10, color='lightblue', edgecolor='black', alpha=0.7)\n",
    "plt.axvline(mean, color='red', linestyle='dashed', linewidth=2, label=f'Mean: {mean:.2f}')\n",
    "\n",
    "plt.title('Histogram with Mean')\n",
    "plt.xlabel('Data Values')\n",
    "plt.ylabel('Frequency')\n",
    "plt.legend(loc='upper right')\n",
    "plt.show()"
   ]
  },
  {
   "cell_type": "markdown",
   "id": "09860e1f-89a8-40a4-9bd4-40a36981b353",
   "metadata": {},
   "source": [
    "#### Median and Mode"
   ]
  },
  {
   "cell_type": "code",
   "execution_count": 116,
   "id": "708b3a83-5b90-4122-9e17-2712654368cd",
   "metadata": {},
   "outputs": [
    {
     "data": {
      "image/png": "[encoded data removed]",
      "text/plain": [
       "<Figure size 640x480 with 1 Axes>"
      ]
     },
     "metadata": {},
     "output_type": "display_data"
    }
   ],
   "source": [
    "plt.hist(data, bins=10, color='lightblue', edgecolor='black', alpha=0.7)\n",
    "plt.axvline(median, color='green', linestyle='dashed', linewidth=2, label=f'Median: {median:.2f}')\n",
    "plt.axvline(mode, color='blue', linestyle='dashed', linewidth=2, label=f'Mode: {mode}')\n",
    "\n",
    "plt.title('Histogram with Median, and Mode')\n",
    "plt.xlabel('Data Values')\n",
    "plt.ylabel('Frequency')\n",
    "plt.legend(loc='upper right')\n",
    "plt.show()"
   ]
  },
  {
   "cell_type": "markdown",
   "id": "3a9541dd-c66b-45ef-96e3-8602748a8dba",
   "metadata": {},
   "source": [
    "### Box-Plot"
   ]
  },
  {
   "cell_type": "markdown",
   "id": "f233e88e-d5fc-439e-9fb7-82ca281c96dc",
   "metadata": {},
   "source": [
    "#### Mean"
   ]
  },
  {
   "cell_type": "code",
   "execution_count": 117,
   "id": "2df2d9a0-bea2-4b90-b9f1-93c8f554305d",
   "metadata": {},
   "outputs": [
    {
     "data": {
      "image/png": "[encoded data removed]",
      "text/plain": [
       "<Figure size 640x480 with 1 Axes>"
      ]
     },
     "metadata": {},
     "output_type": "display_data"
    }
   ],
   "source": [
    "plt.boxplot(data, vert=False, patch_artist=True, notch=True)\n",
    "\n",
    "plt.scatter(mean, 1, color='green', label=f'Mean: {mean:.2f}', zorder=3)\n",
    "\n",
    "plt.title('Box Plot with Mean')\n",
    "plt.xlabel('Data Values')\n",
    "plt.legend(loc='upper right')\n",
    "plt.show()"
   ]
  },
  {
   "cell_type": "markdown",
   "id": "1b50652c-6b29-4368-8c76-b75093b06af5",
   "metadata": {},
   "source": [
    "#### Median"
   ]
  },
  {
   "cell_type": "code",
   "execution_count": 118,
   "id": "115a87c6-b941-42cf-b7aa-3e54e35ebbc5",
   "metadata": {},
   "outputs": [
    {
     "data": {
      "image/png": "[encoded data removed]",
      "text/plain": [
       "<Figure size 640x480 with 1 Axes>"
      ]
     },
     "metadata": {},
     "output_type": "display_data"
    }
   ],
   "source": [
    "plt.boxplot(data, vert=False, patch_artist=True, notch=True)\n",
    "\n",
    "plt.scatter(median, 1, color='red', label=f'Median: {median:.2f}', zorder=3)\n",
    "\n",
    "plt.title('Box Plot with Median')\n",
    "plt.xlabel('Data Values')\n",
    "plt.legend(loc='upper right')\n",
    "plt.show()"
   ]
  },
  {
   "cell_type": "markdown",
   "id": "ae7bfe3a-fd82-45ff-9386-c797b6383364",
   "metadata": {},
   "source": [
    "### Grouped Data"
   ]
  },
  {
   "cell_type": "code",
   "execution_count": 120,
   "id": "8a7a92ea-72ab-45f0-bd7d-b17c146602de",
   "metadata": {},
   "outputs": [
    {
     "data": {
      "image/png": "[encoded data removed]",
      "text/plain": [
       "<Figure size 640x480 with 1 Axes>"
      ]
     },
     "metadata": {},
     "output_type": "display_data"
    }
   ],
   "source": [
    "plt.bar(midpoints, frequencies, width=8, color='lightblue', edgecolor='black', alpha=0.7)\n",
    "\n",
    "plt.xlabel('Class Intervals')\n",
    "plt.ylabel('Frequency')\n",
    "plt.title('Frequency Distribution of Class Intervals')\n",
    "\n",
    "# Setting x-ticks to show the intervals as labels\n",
    "plt.xticks(midpoints, [f\"{interval[0]}-{interval[1]}\" for interval in class_intervals])\n",
    "plt.show()"
   ]
  }
 ],
 "metadata": {
  "kernelspec": {
   "display_name": "venv",
   "language": "python",
   "name": "venv"
  },
  "language_info": {
   "codemirror_mode": {
    "name": "ipython",
    "version": 3
   },
   "file_extension": ".py",
   "mimetype": "text/x-python",
   "name": "python",
   "nbconvert_exporter": "python",
   "pygments_lexer": "ipython3",
   "version": "3.11.4"
  }
 },
 "nbformat": 4,
 "nbformat_minor": 5
}
